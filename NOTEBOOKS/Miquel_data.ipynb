{
 "cells": [
  {
   "cell_type": "code",
   "execution_count": 1,
   "metadata": {},
   "outputs": [],
   "source": [
    "import pandas as pd"
   ]
  },
  {
   "cell_type": "code",
   "execution_count": 7,
   "metadata": {},
   "outputs": [
    {
     "data": {
      "text/html": [
       "<div>\n",
       "<style scoped>\n",
       "    .dataframe tbody tr th:only-of-type {\n",
       "        vertical-align: middle;\n",
       "    }\n",
       "\n",
       "    .dataframe tbody tr th {\n",
       "        vertical-align: top;\n",
       "    }\n",
       "\n",
       "    .dataframe thead th {\n",
       "        text-align: right;\n",
       "    }\n",
       "</style>\n",
       "<table border=\"1\" class=\"dataframe\">\n",
       "  <thead>\n",
       "    <tr style=\"text-align: right;\">\n",
       "      <th></th>\n",
       "      <th>y</th>\n",
       "      <th>smile</th>\n",
       "      <th>name</th>\n",
       "      <th>inchikey</th>\n",
       "    </tr>\n",
       "  </thead>\n",
       "  <tbody>\n",
       "    <tr>\n",
       "      <th>0</th>\n",
       "      <td>1</td>\n",
       "      <td>CC(C)(C)OC(=O)CCCc1ccc(N(CCCl)CCCl)cc1</td>\n",
       "      <td>bbbp1</td>\n",
       "      <td>SZXDOYFHSIIZCF-UHFFFAOYSA-N</td>\n",
       "    </tr>\n",
       "    <tr>\n",
       "      <th>1</th>\n",
       "      <td>1</td>\n",
       "      <td>CC1COc2c(N3CCN(C)CC3)c(F)cc3c(=O)c(C(=O)O)cn1c23</td>\n",
       "      <td>bbbp2</td>\n",
       "      <td>GSDSWSVVBLHKDQ-UHFFFAOYSA-N</td>\n",
       "    </tr>\n",
       "    <tr>\n",
       "      <th>2</th>\n",
       "      <td>1</td>\n",
       "      <td>CC(O)=NCCCOc1cccc(CN2CCCCC2)c1</td>\n",
       "      <td>bbbp3</td>\n",
       "      <td>FAXLXLJWHQJMPK-UHFFFAOYSA-N</td>\n",
       "    </tr>\n",
       "    <tr>\n",
       "      <th>3</th>\n",
       "      <td>1</td>\n",
       "      <td>Cc1onc(-c2ccccc2Cl)c1C(O)=N[C@@H]1C(=O)N2[C@@H...</td>\n",
       "      <td>bbbp4</td>\n",
       "      <td>LQOLIRLGBULYKD-JKIFEVAISA-N</td>\n",
       "    </tr>\n",
       "    <tr>\n",
       "      <th>4</th>\n",
       "      <td>1</td>\n",
       "      <td>CCN1CCN(C(O)=N[C@@H](C(O)=N[C@@H]2C(=O)N3C(C(=...</td>\n",
       "      <td>bbbp5</td>\n",
       "      <td>GCFBRXLSHGKWDP-XCGNWRKASA-N</td>\n",
       "    </tr>\n",
       "  </tbody>\n",
       "</table>\n",
       "</div>"
      ],
      "text/plain": [
       "   y                                              smile   name  \\\n",
       "0  1             CC(C)(C)OC(=O)CCCc1ccc(N(CCCl)CCCl)cc1  bbbp1   \n",
       "1  1   CC1COc2c(N3CCN(C)CC3)c(F)cc3c(=O)c(C(=O)O)cn1c23  bbbp2   \n",
       "2  1                     CC(O)=NCCCOc1cccc(CN2CCCCC2)c1  bbbp3   \n",
       "3  1  Cc1onc(-c2ccccc2Cl)c1C(O)=N[C@@H]1C(=O)N2[C@@H...  bbbp4   \n",
       "4  1  CCN1CCN(C(O)=N[C@@H](C(O)=N[C@@H]2C(=O)N3C(C(=...  bbbp5   \n",
       "\n",
       "                      inchikey  \n",
       "0  SZXDOYFHSIIZCF-UHFFFAOYSA-N  \n",
       "1  GSDSWSVVBLHKDQ-UHFFFAOYSA-N  \n",
       "2  FAXLXLJWHQJMPK-UHFFFAOYSA-N  \n",
       "3  LQOLIRLGBULYKD-JKIFEVAISA-N  \n",
       "4  GCFBRXLSHGKWDP-XCGNWRKASA-N  "
      ]
     },
     "execution_count": 7,
     "metadata": {},
     "output_type": "execute_result"
    }
   ],
   "source": [
    "csv=\"MiquelNB/penetration.csv\"\n",
    "df=pd.read_csv(csv,sep='\\t',header=None)\n",
    "df.columns=['y','smile','name','inchikey']\n",
    "df.head()"
   ]
  },
  {
   "cell_type": "code",
   "execution_count": 9,
   "metadata": {},
   "outputs": [
    {
     "data": {
      "text/plain": [
       "1986"
      ]
     },
     "execution_count": 9,
     "metadata": {},
     "output_type": "execute_result"
    }
   ],
   "source": [
    "len(df)"
   ]
  },
  {
   "cell_type": "code",
   "execution_count": null,
   "metadata": {},
   "outputs": [],
   "source": []
  }
 ],
 "metadata": {
  "kernelspec": {
   "display_name": "Python 3",
   "language": "python",
   "name": "python3"
  },
  "language_info": {
   "codemirror_mode": {
    "name": "ipython",
    "version": 3
   },
   "file_extension": ".py",
   "mimetype": "text/x-python",
   "name": "python",
   "nbconvert_exporter": "python",
   "pygments_lexer": "ipython3",
   "version": "3.7.9"
  }
 },
 "nbformat": 4,
 "nbformat_minor": 4
}
