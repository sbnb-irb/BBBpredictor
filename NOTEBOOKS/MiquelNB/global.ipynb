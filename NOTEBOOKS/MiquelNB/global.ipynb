{
 "cells": [
  {
   "cell_type": "code",
   "execution_count": 1,
   "metadata": {},
   "outputs": [
    {
     "name": "stderr",
     "output_type": "stream",
     "text": [
      "2020-03-02 12:11:25,296 chemicalchecker.core.chemcheck.ChemicalChecker [DEBUG   ] ChemicalChecker with root: /aloy/web_checker/current/\n"
     ]
    }
   ],
   "source": [
    "from chemicalchecker import ChemicalChecker\n",
    "\n",
    "cc = ChemicalChecker(\"/aloy/web_checker/current/\")"
   ]
  },
  {
   "cell_type": "code",
   "execution_count": 2,
   "metadata": {},
   "outputs": [],
   "source": [
    "from chemicalchecker.util.splitter.globalneighbortriplets import GlobalNeighborTripletTraintest"
   ]
  },
  {
   "cell_type": "code",
   "execution_count": 3,
   "metadata": {},
   "outputs": [
    {
     "name": "stderr",
     "output_type": "stream",
     "text": [
      "2020-03-02 12:11:27,602 chemicalchecker.util.splitter.globalneighbortriplets.GlobalNeighborTripletTraintest [INFO    ] Getting exemplary datasets\n"
     ]
    }
   ],
   "source": [
    "gnt = GlobalNeighborTripletTraintest(cc)"
   ]
  },
  {
   "cell_type": "code",
   "execution_count": 4,
   "metadata": {},
   "outputs": [
    {
     "name": "stderr",
     "output_type": "stream",
     "text": [
      "2020-03-02 12:11:30,698 chemicalchecker.core.chemcheck.ChemicalChecker [DEBUG   ] signature path: /aloy/web_checker/current/full/A/A1/A1.001/sign1\n",
      "Using TensorFlow backend.\n",
      "/opt/miniconda3/envs/py37/lib/python3.7/site-packages/tensorflow/python/framework/dtypes.py:516: FutureWarning: Passing (type, 1) or '1type' as a synonym of type is deprecated; in a future version of numpy, it will be understood as (type, (1,)) / '(1,)type'.\n",
      "  _np_qint8 = np.dtype([(\"qint8\", np.int8, 1)])\n",
      "/opt/miniconda3/envs/py37/lib/python3.7/site-packages/tensorflow/python/framework/dtypes.py:517: FutureWarning: Passing (type, 1) or '1type' as a synonym of type is deprecated; in a future version of numpy, it will be understood as (type, (1,)) / '(1,)type'.\n",
      "  _np_quint8 = np.dtype([(\"quint8\", np.uint8, 1)])\n",
      "/opt/miniconda3/envs/py37/lib/python3.7/site-packages/tensorflow/python/framework/dtypes.py:518: FutureWarning: Passing (type, 1) or '1type' as a synonym of type is deprecated; in a future version of numpy, it will be understood as (type, (1,)) / '(1,)type'.\n",
      "  _np_qint16 = np.dtype([(\"qint16\", np.int16, 1)])\n",
      "/opt/miniconda3/envs/py37/lib/python3.7/site-packages/tensorflow/python/framework/dtypes.py:519: FutureWarning: Passing (type, 1) or '1type' as a synonym of type is deprecated; in a future version of numpy, it will be understood as (type, (1,)) / '(1,)type'.\n",
      "  _np_quint16 = np.dtype([(\"quint16\", np.uint16, 1)])\n",
      "/opt/miniconda3/envs/py37/lib/python3.7/site-packages/tensorflow/python/framework/dtypes.py:520: FutureWarning: Passing (type, 1) or '1type' as a synonym of type is deprecated; in a future version of numpy, it will be understood as (type, (1,)) / '(1,)type'.\n",
      "  _np_qint32 = np.dtype([(\"qint32\", np.int32, 1)])\n",
      "/opt/miniconda3/envs/py37/lib/python3.7/site-packages/tensorflow/python/framework/dtypes.py:525: FutureWarning: Passing (type, 1) or '1type' as a synonym of type is deprecated; in a future version of numpy, it will be understood as (type, (1,)) / '(1,)type'.\n",
      "  np_resource = np.dtype([(\"resource\", np.ubyte, 1)])\n",
      "/opt/miniconda3/envs/py37/lib/python3.7/site-packages/tensorboard/compat/tensorflow_stub/dtypes.py:541: FutureWarning: Passing (type, 1) or '1type' as a synonym of type is deprecated; in a future version of numpy, it will be understood as (type, (1,)) / '(1,)type'.\n",
      "  _np_qint8 = np.dtype([(\"qint8\", np.int8, 1)])\n",
      "/opt/miniconda3/envs/py37/lib/python3.7/site-packages/tensorboard/compat/tensorflow_stub/dtypes.py:542: FutureWarning: Passing (type, 1) or '1type' as a synonym of type is deprecated; in a future version of numpy, it will be understood as (type, (1,)) / '(1,)type'.\n",
      "  _np_quint8 = np.dtype([(\"quint8\", np.uint8, 1)])\n",
      "/opt/miniconda3/envs/py37/lib/python3.7/site-packages/tensorboard/compat/tensorflow_stub/dtypes.py:543: FutureWarning: Passing (type, 1) or '1type' as a synonym of type is deprecated; in a future version of numpy, it will be understood as (type, (1,)) / '(1,)type'.\n",
      "  _np_qint16 = np.dtype([(\"qint16\", np.int16, 1)])\n",
      "/opt/miniconda3/envs/py37/lib/python3.7/site-packages/tensorboard/compat/tensorflow_stub/dtypes.py:544: FutureWarning: Passing (type, 1) or '1type' as a synonym of type is deprecated; in a future version of numpy, it will be understood as (type, (1,)) / '(1,)type'.\n",
      "  _np_quint16 = np.dtype([(\"quint16\", np.uint16, 1)])\n",
      "/opt/miniconda3/envs/py37/lib/python3.7/site-packages/tensorboard/compat/tensorflow_stub/dtypes.py:545: FutureWarning: Passing (type, 1) or '1type' as a synonym of type is deprecated; in a future version of numpy, it will be understood as (type, (1,)) / '(1,)type'.\n",
      "  _np_qint32 = np.dtype([(\"qint32\", np.int32, 1)])\n",
      "/opt/miniconda3/envs/py37/lib/python3.7/site-packages/tensorboard/compat/tensorflow_stub/dtypes.py:550: FutureWarning: Passing (type, 1) or '1type' as a synonym of type is deprecated; in a future version of numpy, it will be understood as (type, (1,)) / '(1,)type'.\n",
      "  np_resource = np.dtype([(\"resource\", np.ubyte, 1)])\n",
      "2020-03-02 12:11:32,033 chemicalchecker.core.data.DataFactory [DEBUG   ] initializing object sign1\n",
      "2020-03-02 12:11:32,036 chemicalchecker.core.sign1.sign1 [DEBUG   ] signature path is: /aloy/web_checker/current/full/A/A1/A1.001/sign1\n",
      "2020-03-02 12:11:32,036 chemicalchecker.core.sign1.sign1 [WARNING ] Sign1 using default value (True) for discrete parameter\n"
     ]
    }
   ],
   "source": [
    "keys = cc.signature(\"A1.001\", \"sign1\").keys"
   ]
  },
  {
   "cell_type": "code",
   "execution_count": 5,
   "metadata": {},
   "outputs": [
    {
     "name": "stderr",
     "output_type": "stream",
     "text": [
      "2020-03-02 12:11:35,808 chemicalchecker.util.splitter.globalneighbortriplets.GlobalNeighborTripletTraintest [DEBUG   ] Reading across\n",
      "  0%|          | 0/25 [00:00<?, ?it/s]2020-03-02 12:11:35,809 chemicalchecker.core.chemcheck.ChemicalChecker [DEBUG   ] signature path: /aloy/web_checker/current/full/A/A1/A1.001/sign1\n",
      "2020-03-02 12:11:35,810 chemicalchecker.core.data.DataFactory [DEBUG   ] initializing object sign1\n",
      "2020-03-02 12:11:35,811 chemicalchecker.core.sign1.sign1 [DEBUG   ] signature path is: /aloy/web_checker/current/full/A/A1/A1.001/sign1\n",
      "2020-03-02 12:11:35,811 chemicalchecker.core.sign1.sign1 [WARNING ] Sign1 using default value (True) for discrete parameter\n",
      "2020-03-02 12:11:35,813 chemicalchecker.core.sign1.sign1 [DEBUG   ] signature path is: /aloy/web_checker/current/reference/A/A1/A1.001/sign1\n",
      "2020-03-02 12:11:35,813 chemicalchecker.core.sign1.sign1 [WARNING ] Sign1 using default value (True) for discrete parameter\n",
      "2020-03-02 12:11:36,528 chemicalchecker.core.signature_data.DataSignature [DEBUG   ] Fetching dataset mappings\n",
      "  4%|▍         | 1/25 [00:03<01:21,  3.40s/it]2020-03-02 12:11:39,215 chemicalchecker.core.chemcheck.ChemicalChecker [DEBUG   ] signature path: /aloy/web_checker/current/full/A/A2/A2.001/sign1\n",
      "2020-03-02 12:11:39,216 chemicalchecker.core.data.DataFactory [DEBUG   ] initializing object sign1\n",
      "2020-03-02 12:11:39,222 chemicalchecker.core.sign1.sign1 [DEBUG   ] signature path is: /aloy/web_checker/current/full/A/A2/A2.001/sign1\n",
      "2020-03-02 12:11:39,222 chemicalchecker.core.sign1.sign1 [WARNING ] Sign1 using default value (True) for discrete parameter\n",
      "2020-03-02 12:11:39,233 chemicalchecker.core.sign1.sign1 [DEBUG   ] signature path is: /aloy/web_checker/current/reference/A/A2/A2.001/sign1\n",
      "2020-03-02 12:11:39,235 chemicalchecker.core.sign1.sign1 [WARNING ] Sign1 using default value (True) for discrete parameter\n",
      "2020-03-02 12:11:39,994 chemicalchecker.core.signature_data.DataSignature [DEBUG   ] Fetching dataset mappings\n",
      "  8%|▊         | 2/25 [00:06<01:16,  3.32s/it]2020-03-02 12:11:42,321 chemicalchecker.core.chemcheck.ChemicalChecker [DEBUG   ] signature path: /aloy/web_checker/current/full/A/A3/A3.001/sign1\n",
      "2020-03-02 12:11:42,321 chemicalchecker.core.data.DataFactory [DEBUG   ] initializing object sign1\n",
      "2020-03-02 12:11:42,324 chemicalchecker.core.sign1.sign1 [DEBUG   ] signature path is: /aloy/web_checker/current/full/A/A3/A3.001/sign1\n",
      "2020-03-02 12:11:42,325 chemicalchecker.core.sign1.sign1 [WARNING ] Sign1 using default value (True) for discrete parameter\n",
      "2020-03-02 12:11:42,327 chemicalchecker.core.sign1.sign1 [DEBUG   ] signature path is: /aloy/web_checker/current/reference/A/A3/A3.001/sign1\n",
      "2020-03-02 12:11:42,328 chemicalchecker.core.sign1.sign1 [WARNING ] Sign1 using default value (True) for discrete parameter\n",
      "2020-03-02 12:11:42,875 chemicalchecker.core.signature_data.DataSignature [DEBUG   ] Fetching dataset mappings\n",
      " 12%|█▏        | 3/25 [00:09<01:11,  3.24s/it]2020-03-02 12:11:45,378 chemicalchecker.core.chemcheck.ChemicalChecker [DEBUG   ] signature path: /aloy/web_checker/current/full/A/A4/A4.001/sign1\n",
      "2020-03-02 12:11:45,379 chemicalchecker.core.data.DataFactory [DEBUG   ] initializing object sign1\n",
      "2020-03-02 12:11:45,389 chemicalchecker.core.sign1.sign1 [DEBUG   ] signature path is: /aloy/web_checker/current/full/A/A4/A4.001/sign1\n",
      "2020-03-02 12:11:45,391 chemicalchecker.core.sign1.sign1 [WARNING ] Sign1 using default value (True) for discrete parameter\n",
      "2020-03-02 12:11:45,398 chemicalchecker.core.sign1.sign1 [DEBUG   ] signature path is: /aloy/web_checker/current/reference/A/A4/A4.001/sign1\n",
      "2020-03-02 12:11:45,399 chemicalchecker.core.sign1.sign1 [WARNING ] Sign1 using default value (True) for discrete parameter\n",
      "2020-03-02 12:11:46,131 chemicalchecker.core.signature_data.DataSignature [DEBUG   ] Fetching dataset mappings\n",
      " 16%|█▌        | 4/25 [00:12<01:08,  3.25s/it]2020-03-02 12:11:48,651 chemicalchecker.core.chemcheck.ChemicalChecker [DEBUG   ] signature path: /aloy/web_checker/current/full/A/A5/A5.001/sign1\n",
      "2020-03-02 12:11:48,652 chemicalchecker.core.data.DataFactory [DEBUG   ] initializing object sign1\n",
      "2020-03-02 12:11:48,655 chemicalchecker.core.sign1.sign1 [DEBUG   ] signature path is: /aloy/web_checker/current/full/A/A5/A5.001/sign1\n",
      "2020-03-02 12:11:48,655 chemicalchecker.core.sign1.sign1 [WARNING ] Sign1 using default value (True) for discrete parameter\n",
      "2020-03-02 12:11:48,658 chemicalchecker.core.sign1.sign1 [DEBUG   ] signature path is: /aloy/web_checker/current/reference/A/A5/A5.001/sign1\n",
      "2020-03-02 12:11:48,659 chemicalchecker.core.sign1.sign1 [WARNING ] Sign1 using default value (True) for discrete parameter\n",
      "2020-03-02 12:11:49,219 chemicalchecker.core.signature_data.DataSignature [DEBUG   ] Fetching dataset mappings\n",
      " 20%|██        | 5/25 [00:16<01:05,  3.27s/it]2020-03-02 12:11:51,976 chemicalchecker.core.chemcheck.ChemicalChecker [DEBUG   ] signature path: /aloy/web_checker/current/full/B/B1/B1.001/sign1\n",
      "2020-03-02 12:11:51,976 chemicalchecker.core.data.DataFactory [DEBUG   ] initializing object sign1\n",
      "2020-03-02 12:11:51,979 chemicalchecker.core.sign1.sign1 [DEBUG   ] signature path is: /aloy/web_checker/current/full/B/B1/B1.001/sign1\n",
      "2020-03-02 12:11:51,980 chemicalchecker.core.sign1.sign1 [WARNING ] Sign1 using default value (True) for discrete parameter\n",
      "2020-03-02 12:11:51,982 chemicalchecker.core.sign1.sign1 [DEBUG   ] signature path is: /aloy/web_checker/current/reference/B/B1/B1.001/sign1\n",
      "2020-03-02 12:11:51,983 chemicalchecker.core.sign1.sign1 [WARNING ] Sign1 using default value (True) for discrete parameter\n",
      "2020-03-02 12:11:52,005 chemicalchecker.core.signature_data.DataSignature [DEBUG   ] Fetching dataset mappings\n",
      "2020-03-02 12:11:52,021 chemicalchecker.core.chemcheck.ChemicalChecker [DEBUG   ] signature path: /aloy/web_checker/current/full/B/B2/B2.001/sign1\n",
      "2020-03-02 12:11:52,022 chemicalchecker.core.data.DataFactory [DEBUG   ] initializing object sign1\n",
      "2020-03-02 12:11:52,024 chemicalchecker.core.sign1.sign1 [DEBUG   ] signature path is: /aloy/web_checker/current/full/B/B2/B2.001/sign1\n",
      "2020-03-02 12:11:52,024 chemicalchecker.core.sign1.sign1 [WARNING ] Sign1 using default value (True) for discrete parameter\n",
      "2020-03-02 12:11:52,027 chemicalchecker.core.sign1.sign1 [DEBUG   ] signature path is: /aloy/web_checker/current/reference/B/B2/B2.001/sign1\n",
      "2020-03-02 12:11:52,028 chemicalchecker.core.sign1.sign1 [WARNING ] Sign1 using default value (True) for discrete parameter\n",
      "2020-03-02 12:11:52,050 chemicalchecker.core.signature_data.DataSignature [DEBUG   ] Fetching dataset mappings\n",
      "2020-03-02 12:11:52,061 chemicalchecker.core.chemcheck.ChemicalChecker [DEBUG   ] signature path: /aloy/web_checker/current/full/B/B3/B3.001/sign1\n",
      "2020-03-02 12:11:52,062 chemicalchecker.core.data.DataFactory [DEBUG   ] initializing object sign1\n",
      "2020-03-02 12:11:52,065 chemicalchecker.core.sign1.sign1 [DEBUG   ] signature path is: /aloy/web_checker/current/full/B/B3/B3.001/sign1\n",
      "2020-03-02 12:11:52,066 chemicalchecker.core.sign1.sign1 [WARNING ] Sign1 using default value (True) for discrete parameter\n",
      "2020-03-02 12:11:52,068 chemicalchecker.core.sign1.sign1 [DEBUG   ] signature path is: /aloy/web_checker/current/reference/B/B3/B3.001/sign1\n",
      "2020-03-02 12:11:52,069 chemicalchecker.core.sign1.sign1 [WARNING ] Sign1 using default value (True) for discrete parameter\n",
      "2020-03-02 12:11:52,129 chemicalchecker.core.signature_data.DataSignature [DEBUG   ] Fetching dataset mappings\n",
      " 32%|███▏      | 8/25 [00:16<00:39,  2.31s/it]2020-03-02 12:11:52,189 chemicalchecker.core.chemcheck.ChemicalChecker [DEBUG   ] signature path: /aloy/web_checker/current/full/B/B4/B4.001/sign1\n",
      "2020-03-02 12:11:52,190 chemicalchecker.core.data.DataFactory [DEBUG   ] initializing object sign1\n",
      "2020-03-02 12:11:52,192 chemicalchecker.core.sign1.sign1 [DEBUG   ] signature path is: /aloy/web_checker/current/full/B/B4/B4.001/sign1\n",
      "2020-03-02 12:11:52,192 chemicalchecker.core.sign1.sign1 [WARNING ] Sign1 using default value (True) for discrete parameter\n",
      "2020-03-02 12:11:52,196 chemicalchecker.core.sign1.sign1 [DEBUG   ] signature path is: /aloy/web_checker/current/reference/B/B4/B4.001/sign1\n",
      "2020-03-02 12:11:52,196 chemicalchecker.core.sign1.sign1 [WARNING ] Sign1 using default value (True) for discrete parameter\n"
     ]
    },
    {
     "name": "stderr",
     "output_type": "stream",
     "text": [
      "2020-03-02 12:11:52,553 chemicalchecker.core.signature_data.DataSignature [DEBUG   ] Fetching dataset mappings\n",
      " 36%|███▌      | 9/25 [00:18<00:35,  2.22s/it]2020-03-02 12:11:54,193 chemicalchecker.core.chemcheck.ChemicalChecker [DEBUG   ] signature path: /aloy/web_checker/current/full/B/B5/B5.001/sign1\n",
      "2020-03-02 12:11:54,193 chemicalchecker.core.data.DataFactory [DEBUG   ] initializing object sign1\n",
      "2020-03-02 12:11:54,197 chemicalchecker.core.sign1.sign1 [DEBUG   ] signature path is: /aloy/web_checker/current/full/B/B5/B5.001/sign1\n",
      "2020-03-02 12:11:54,198 chemicalchecker.core.sign1.sign1 [WARNING ] Sign1 using default value (True) for discrete parameter\n",
      "2020-03-02 12:11:54,200 chemicalchecker.core.sign1.sign1 [DEBUG   ] signature path is: /aloy/web_checker/current/reference/B/B5/B5.001/sign1\n",
      "2020-03-02 12:11:54,200 chemicalchecker.core.sign1.sign1 [WARNING ] Sign1 using default value (True) for discrete parameter\n",
      "2020-03-02 12:11:54,508 chemicalchecker.core.signature_data.DataSignature [DEBUG   ] Fetching dataset mappings\n",
      " 40%|████      | 10/25 [00:20<00:32,  2.15s/it]2020-03-02 12:11:56,191 chemicalchecker.core.chemcheck.ChemicalChecker [DEBUG   ] signature path: /aloy/web_checker/current/full/C/C1/C1.001/sign1\n",
      "2020-03-02 12:11:56,192 chemicalchecker.core.data.DataFactory [DEBUG   ] initializing object sign1\n",
      "2020-03-02 12:11:56,194 chemicalchecker.core.sign1.sign1 [DEBUG   ] signature path is: /aloy/web_checker/current/full/C/C1/C1.001/sign1\n",
      "2020-03-02 12:11:56,195 chemicalchecker.core.sign1.sign1 [WARNING ] Sign1 using default value (True) for discrete parameter\n",
      "2020-03-02 12:11:56,198 chemicalchecker.core.sign1.sign1 [DEBUG   ] signature path is: /aloy/web_checker/current/reference/C/C1/C1.001/sign1\n",
      "2020-03-02 12:11:56,198 chemicalchecker.core.sign1.sign1 [WARNING ] Sign1 using default value (True) for discrete parameter\n",
      "2020-03-02 12:11:56,246 chemicalchecker.core.signature_data.DataSignature [DEBUG   ] Fetching dataset mappings\n",
      " 44%|████▍     | 11/25 [00:20<00:21,  1.54s/it]2020-03-02 12:11:56,308 chemicalchecker.core.chemcheck.ChemicalChecker [DEBUG   ] signature path: /aloy/web_checker/current/full/C/C2/C2.001/sign1\n",
      "2020-03-02 12:11:56,308 chemicalchecker.core.data.DataFactory [DEBUG   ] initializing object sign1\n",
      "2020-03-02 12:11:56,311 chemicalchecker.core.sign1.sign1 [DEBUG   ] signature path is: /aloy/web_checker/current/full/C/C2/C2.001/sign1\n",
      "2020-03-02 12:11:56,312 chemicalchecker.core.sign1.sign1 [WARNING ] Sign1 using default value (True) for discrete parameter\n",
      "2020-03-02 12:11:56,314 chemicalchecker.core.sign1.sign1 [DEBUG   ] signature path is: /aloy/web_checker/current/reference/C/C2/C2.001/sign1\n",
      "2020-03-02 12:11:56,315 chemicalchecker.core.sign1.sign1 [WARNING ] Sign1 using default value (True) for discrete parameter\n",
      "2020-03-02 12:11:56,336 chemicalchecker.core.signature_data.DataSignature [DEBUG   ] Fetching dataset mappings\n",
      "2020-03-02 12:11:56,353 chemicalchecker.core.chemcheck.ChemicalChecker [DEBUG   ] signature path: /aloy/web_checker/current/full/C/C3/C3.001/sign1\n",
      "2020-03-02 12:11:56,354 chemicalchecker.core.data.DataFactory [DEBUG   ] initializing object sign1\n",
      "2020-03-02 12:11:56,358 chemicalchecker.core.sign1.sign1 [DEBUG   ] signature path is: /aloy/web_checker/current/full/C/C3/C3.001/sign1\n",
      "2020-03-02 12:11:56,358 chemicalchecker.core.sign1.sign1 [WARNING ] Sign1 using default value (True) for discrete parameter\n",
      "2020-03-02 12:11:56,362 chemicalchecker.core.sign1.sign1 [DEBUG   ] signature path is: /aloy/web_checker/current/reference/C/C3/C3.001/sign1\n",
      "2020-03-02 12:11:56,362 chemicalchecker.core.sign1.sign1 [WARNING ] Sign1 using default value (True) for discrete parameter\n",
      "2020-03-02 12:11:56,620 chemicalchecker.core.signature_data.DataSignature [DEBUG   ] Fetching dataset mappings\n",
      " 52%|█████▏    | 13/25 [00:22<00:16,  1.36s/it]2020-03-02 12:11:58,167 chemicalchecker.core.chemcheck.ChemicalChecker [DEBUG   ] signature path: /aloy/web_checker/current/full/C/C4/C4.001/sign1\n",
      "2020-03-02 12:11:58,168 chemicalchecker.core.data.DataFactory [DEBUG   ] initializing object sign1\n",
      "2020-03-02 12:11:58,171 chemicalchecker.core.sign1.sign1 [DEBUG   ] signature path is: /aloy/web_checker/current/full/C/C4/C4.001/sign1\n",
      "2020-03-02 12:11:58,171 chemicalchecker.core.sign1.sign1 [WARNING ] Sign1 using default value (True) for discrete parameter\n",
      "2020-03-02 12:11:58,174 chemicalchecker.core.sign1.sign1 [DEBUG   ] signature path is: /aloy/web_checker/current/reference/C/C4/C4.001/sign1\n",
      "2020-03-02 12:11:58,174 chemicalchecker.core.sign1.sign1 [WARNING ] Sign1 using default value (True) for discrete parameter\n",
      "2020-03-02 12:11:58,415 chemicalchecker.core.signature_data.DataSignature [DEBUG   ] Fetching dataset mappings\n",
      " 56%|█████▌    | 14/25 [00:24<00:17,  1.58s/it]2020-03-02 12:12:00,253 chemicalchecker.core.chemcheck.ChemicalChecker [DEBUG   ] signature path: /aloy/web_checker/current/full/C/C5/C5.001/sign1\n",
      "2020-03-02 12:12:00,253 chemicalchecker.core.data.DataFactory [DEBUG   ] initializing object sign1\n",
      "2020-03-02 12:12:00,255 chemicalchecker.core.sign1.sign1 [DEBUG   ] signature path is: /aloy/web_checker/current/full/C/C5/C5.001/sign1\n",
      "2020-03-02 12:12:00,256 chemicalchecker.core.sign1.sign1 [WARNING ] Sign1 using default value (True) for discrete parameter\n",
      "2020-03-02 12:12:00,257 chemicalchecker.core.sign1.sign1 [DEBUG   ] signature path is: /aloy/web_checker/current/reference/C/C5/C5.001/sign1\n",
      "2020-03-02 12:12:00,258 chemicalchecker.core.sign1.sign1 [WARNING ] Sign1 using default value (True) for discrete parameter\n",
      "2020-03-02 12:12:00,511 chemicalchecker.core.signature_data.DataSignature [DEBUG   ] Fetching dataset mappings\n",
      " 60%|██████    | 15/25 [00:26<00:16,  1.66s/it]2020-03-02 12:12:02,107 chemicalchecker.core.chemcheck.ChemicalChecker [DEBUG   ] signature path: /aloy/web_checker/current/full/D/D1/D1.001/sign1\n",
      "2020-03-02 12:12:02,108 chemicalchecker.core.data.DataFactory [DEBUG   ] initializing object sign1\n",
      "2020-03-02 12:12:02,110 chemicalchecker.core.sign1.sign1 [DEBUG   ] signature path is: /aloy/web_checker/current/full/D/D1/D1.001/sign1\n",
      "2020-03-02 12:12:02,110 chemicalchecker.core.sign1.sign1 [WARNING ] Sign1 using default value (True) for discrete parameter\n",
      "2020-03-02 12:12:02,112 chemicalchecker.core.sign1.sign1 [DEBUG   ] signature path is: /aloy/web_checker/current/reference/D/D1/D1.001/sign1\n",
      "2020-03-02 12:12:02,112 chemicalchecker.core.sign1.sign1 [WARNING ] Sign1 using default value (True) for discrete parameter\n",
      "2020-03-02 12:12:02,152 chemicalchecker.core.signature_data.DataSignature [DEBUG   ] Fetching dataset mappings\n",
      "2020-03-02 12:12:02,186 chemicalchecker.core.chemcheck.ChemicalChecker [DEBUG   ] signature path: /aloy/web_checker/current/full/D/D2/D2.001/sign1\n",
      "2020-03-02 12:12:02,187 chemicalchecker.core.data.DataFactory [DEBUG   ] initializing object sign1\n",
      "2020-03-02 12:12:02,189 chemicalchecker.core.sign1.sign1 [DEBUG   ] signature path is: /aloy/web_checker/current/full/D/D2/D2.001/sign1\n",
      "2020-03-02 12:12:02,189 chemicalchecker.core.sign1.sign1 [WARNING ] Sign1 using default value (True) for discrete parameter\n",
      "2020-03-02 12:12:02,191 chemicalchecker.core.sign1.sign1 [DEBUG   ] signature path is: /aloy/web_checker/current/reference/D/D2/D2.001/sign1\n",
      "2020-03-02 12:12:02,191 chemicalchecker.core.sign1.sign1 [WARNING ] Sign1 using default value (True) for discrete parameter\n",
      "2020-03-02 12:12:02,238 chemicalchecker.core.signature_data.DataSignature [DEBUG   ] Fetching dataset mappings\n",
      " 68%|██████▊   | 17/25 [00:26<00:09,  1.19s/it]2020-03-02 12:12:02,276 chemicalchecker.core.chemcheck.ChemicalChecker [DEBUG   ] signature path: /aloy/web_checker/current/full/D/D3/D3.001/sign1\n",
      "2020-03-02 12:12:02,276 chemicalchecker.core.data.DataFactory [DEBUG   ] initializing object sign1\n",
      "2020-03-02 12:12:02,279 chemicalchecker.core.sign1.sign1 [DEBUG   ] signature path is: /aloy/web_checker/current/full/D/D3/D3.001/sign1\n",
      "2020-03-02 12:12:02,279 chemicalchecker.core.sign1.sign1 [WARNING ] Sign1 using default value (True) for discrete parameter\n",
      "2020-03-02 12:12:02,281 chemicalchecker.core.sign1.sign1 [DEBUG   ] signature path is: /aloy/web_checker/current/reference/D/D3/D3.001/sign1\n",
      "2020-03-02 12:12:02,282 chemicalchecker.core.sign1.sign1 [WARNING ] Sign1 using default value (True) for discrete parameter\n"
     ]
    },
    {
     "name": "stderr",
     "output_type": "stream",
     "text": [
      "2020-03-02 12:12:02,303 chemicalchecker.core.signature_data.DataSignature [DEBUG   ] Fetching dataset mappings\n",
      "2020-03-02 12:12:02,320 chemicalchecker.core.chemcheck.ChemicalChecker [DEBUG   ] signature path: /aloy/web_checker/current/full/D/D4/D4.001/sign1\n",
      "2020-03-02 12:12:02,321 chemicalchecker.core.data.DataFactory [DEBUG   ] initializing object sign1\n",
      "2020-03-02 12:12:02,323 chemicalchecker.core.sign1.sign1 [DEBUG   ] signature path is: /aloy/web_checker/current/full/D/D4/D4.001/sign1\n",
      "2020-03-02 12:12:02,323 chemicalchecker.core.sign1.sign1 [WARNING ] Sign1 using default value (True) for discrete parameter\n",
      "2020-03-02 12:12:02,324 chemicalchecker.core.sign1.sign1 [DEBUG   ] signature path is: /aloy/web_checker/current/reference/D/D4/D4.001/sign1\n",
      "2020-03-02 12:12:02,325 chemicalchecker.core.sign1.sign1 [WARNING ] Sign1 using default value (True) for discrete parameter\n",
      "2020-03-02 12:12:02,377 chemicalchecker.core.signature_data.DataSignature [DEBUG   ] Fetching dataset mappings\n",
      " 76%|███████▌  | 19/25 [00:26<00:05,  1.17it/s]2020-03-02 12:12:02,420 chemicalchecker.core.chemcheck.ChemicalChecker [DEBUG   ] signature path: /aloy/web_checker/current/full/D/D5/D5.001/sign1\n",
      "2020-03-02 12:12:02,420 chemicalchecker.core.data.DataFactory [DEBUG   ] initializing object sign1\n",
      "2020-03-02 12:12:02,422 chemicalchecker.core.sign1.sign1 [DEBUG   ] signature path is: /aloy/web_checker/current/full/D/D5/D5.001/sign1\n",
      "2020-03-02 12:12:02,423 chemicalchecker.core.sign1.sign1 [WARNING ] Sign1 using default value (True) for discrete parameter\n",
      "2020-03-02 12:12:02,424 chemicalchecker.core.sign1.sign1 [DEBUG   ] signature path is: /aloy/web_checker/current/reference/D/D5/D5.001/sign1\n",
      "2020-03-02 12:12:02,425 chemicalchecker.core.sign1.sign1 [WARNING ] Sign1 using default value (True) for discrete parameter\n",
      "2020-03-02 12:12:02,478 chemicalchecker.core.signature_data.DataSignature [DEBUG   ] Fetching dataset mappings\n",
      " 80%|████████  | 20/25 [00:26<00:03,  1.55it/s]2020-03-02 12:12:02,574 chemicalchecker.core.chemcheck.ChemicalChecker [DEBUG   ] signature path: /aloy/web_checker/current/full/E/E1/E1.001/sign1\n",
      "2020-03-02 12:12:02,574 chemicalchecker.core.data.DataFactory [DEBUG   ] initializing object sign1\n",
      "2020-03-02 12:12:02,576 chemicalchecker.core.sign1.sign1 [DEBUG   ] signature path is: /aloy/web_checker/current/full/E/E1/E1.001/sign1\n",
      "2020-03-02 12:12:02,577 chemicalchecker.core.sign1.sign1 [WARNING ] Sign1 using default value (True) for discrete parameter\n",
      "2020-03-02 12:12:02,578 chemicalchecker.core.sign1.sign1 [DEBUG   ] signature path is: /aloy/web_checker/current/reference/E/E1/E1.001/sign1\n",
      "2020-03-02 12:12:02,579 chemicalchecker.core.sign1.sign1 [WARNING ] Sign1 using default value (True) for discrete parameter\n",
      "2020-03-02 12:12:02,596 chemicalchecker.core.signature_data.DataSignature [DEBUG   ] Fetching dataset mappings\n",
      "2020-03-02 12:12:02,610 chemicalchecker.core.chemcheck.ChemicalChecker [DEBUG   ] signature path: /aloy/web_checker/current/full/E/E2/E2.001/sign1\n",
      "2020-03-02 12:12:02,611 chemicalchecker.core.data.DataFactory [DEBUG   ] initializing object sign1\n",
      "2020-03-02 12:12:02,613 chemicalchecker.core.sign1.sign1 [DEBUG   ] signature path is: /aloy/web_checker/current/full/E/E2/E2.001/sign1\n",
      "2020-03-02 12:12:02,614 chemicalchecker.core.sign1.sign1 [WARNING ] Sign1 using default value (True) for discrete parameter\n",
      "2020-03-02 12:12:02,616 chemicalchecker.core.sign1.sign1 [DEBUG   ] signature path is: /aloy/web_checker/current/reference/E/E2/E2.001/sign1\n",
      "2020-03-02 12:12:02,616 chemicalchecker.core.sign1.sign1 [WARNING ] Sign1 using default value (True) for discrete parameter\n",
      "2020-03-02 12:12:02,633 chemicalchecker.core.signature_data.DataSignature [DEBUG   ] Fetching dataset mappings\n",
      "2020-03-02 12:12:02,646 chemicalchecker.core.chemcheck.ChemicalChecker [DEBUG   ] signature path: /aloy/web_checker/current/full/E/E3/E3.001/sign1\n",
      "2020-03-02 12:12:02,647 chemicalchecker.core.data.DataFactory [DEBUG   ] initializing object sign1\n",
      "2020-03-02 12:12:02,648 chemicalchecker.core.sign1.sign1 [DEBUG   ] signature path is: /aloy/web_checker/current/full/E/E3/E3.001/sign1\n",
      "2020-03-02 12:12:02,649 chemicalchecker.core.sign1.sign1 [WARNING ] Sign1 using default value (True) for discrete parameter\n",
      "2020-03-02 12:12:02,651 chemicalchecker.core.sign1.sign1 [DEBUG   ] signature path is: /aloy/web_checker/current/reference/E/E3/E3.001/sign1\n",
      "2020-03-02 12:12:02,651 chemicalchecker.core.sign1.sign1 [WARNING ] Sign1 using default value (True) for discrete parameter\n",
      "2020-03-02 12:12:02,666 chemicalchecker.core.signature_data.DataSignature [DEBUG   ] Fetching dataset mappings\n",
      " 92%|█████████▏| 23/25 [00:26<00:00,  2.17it/s]2020-03-02 12:12:02,679 chemicalchecker.core.chemcheck.ChemicalChecker [DEBUG   ] signature path: /aloy/web_checker/current/full/E/E4/E4.001/sign1\n",
      "2020-03-02 12:12:02,679 chemicalchecker.core.data.DataFactory [DEBUG   ] initializing object sign1\n",
      "2020-03-02 12:12:02,681 chemicalchecker.core.sign1.sign1 [DEBUG   ] signature path is: /aloy/web_checker/current/full/E/E4/E4.001/sign1\n",
      "2020-03-02 12:12:02,682 chemicalchecker.core.sign1.sign1 [WARNING ] Sign1 using default value (True) for discrete parameter\n",
      "2020-03-02 12:12:02,684 chemicalchecker.core.sign1.sign1 [DEBUG   ] signature path is: /aloy/web_checker/current/reference/E/E4/E4.001/sign1\n",
      "2020-03-02 12:12:02,685 chemicalchecker.core.sign1.sign1 [WARNING ] Sign1 using default value (True) for discrete parameter\n",
      "2020-03-02 12:12:02,705 chemicalchecker.core.signature_data.DataSignature [DEBUG   ] Fetching dataset mappings\n",
      "2020-03-02 12:12:02,730 chemicalchecker.core.chemcheck.ChemicalChecker [DEBUG   ] signature path: /aloy/web_checker/current/full/E/E5/E5.001/sign1\n",
      "2020-03-02 12:12:02,731 chemicalchecker.core.data.DataFactory [DEBUG   ] initializing object sign1\n",
      "2020-03-02 12:12:02,734 chemicalchecker.core.sign1.sign1 [DEBUG   ] signature path is: /aloy/web_checker/current/full/E/E5/E5.001/sign1\n",
      "2020-03-02 12:12:02,736 chemicalchecker.core.sign1.sign1 [WARNING ] Sign1 using default value (True) for discrete parameter\n",
      "2020-03-02 12:12:02,739 chemicalchecker.core.sign1.sign1 [DEBUG   ] signature path is: /aloy/web_checker/current/reference/E/E5/E5.001/sign1\n",
      "2020-03-02 12:12:02,740 chemicalchecker.core.sign1.sign1 [WARNING ] Sign1 using default value (True) for discrete parameter\n",
      "2020-03-02 12:12:02,757 chemicalchecker.core.signature_data.DataSignature [DEBUG   ] Fetching dataset mappings\n",
      "100%|██████████| 25/25 [00:26<00:00,  1.08s/it]\n",
      "2020-03-02 12:12:02,768 chemicalchecker.util.splitter.globalneighbortriplets.GlobalNeighborTripletTraintest [DEBUG   ] Refactoring\n",
      "100%|██████████| 10/10 [00:03<00:00,  3.21it/s]\n",
      "100%|██████████| 10/10 [01:59<00:00, 11.94s/it]\n"
     ]
    }
   ],
   "source": [
    "idxs = gnt.acceptable_split(keys, [0.8, 0.1, 0.1])"
   ]
  },
  {
   "cell_type": "code",
   "execution_count": 10,
   "metadata": {},
   "outputs": [
    {
     "data": {
      "text/plain": [
       "array([750221, 206629,  54907, ..., 212801, 400605, 731578])"
      ]
     },
     "execution_count": 10,
     "metadata": {},
     "output_type": "execute_result"
    }
   ],
   "source": [
    "idxs[0]"
   ]
  },
  {
   "cell_type": "code",
   "execution_count": null,
   "metadata": {},
   "outputs": [],
   "source": [
    "def refactor_res(res):\n",
    "    res_refact = {}\n",
    "    for k,v in res.items():\n",
    "        keys_full = set(v[0])\n",
    "        keys_ref  = set(v[1])\n",
    "        maps      = dict((v[2][i,0],v[2][i,1]) for i in range(0, v[2].shape[0]))\n",
    "        res_refact[k] = {\n",
    "            \"keys_full\": keys_full,\n",
    "            \"keys_ref\": keys_ref,\n",
    "            \"maps\": maps\n",
    "        }\n",
    "    return res_refact\n",
    "\n",
    "res_refact = refactor_res(res)"
   ]
  },
  {
   "cell_type": "code",
   "execution_count": null,
   "metadata": {},
   "outputs": [],
   "source": [
    "def collisions(keys, idxs, maps):\n",
    "    split_fractions = np.array([len(idx) for idx in idxs])\n",
    "    split_fractions = split_fractions/split_fractions.sum()\n",
    "    ref_sets = []\n",
    "    keys_found = 0\n",
    "    for idx in idxs:\n",
    "        ref_set = set()\n",
    "        keys_ = keys[idx]\n",
    "        for k in keys_:\n",
    "            if k not in maps: continue\n",
    "            ref_set.update([maps[k]])\n",
    "            keys_found += 1\n",
    "        ref_sets += [ref_set]\n",
    "    co = 0\n",
    "    for i in range(0, len(ref_sets)-1):\n",
    "        for j in range(i+1, len(ref_sets)):\n",
    "            co += len(ref_sets[i].intersection(ref_sets[j]))\n",
    "    co_frac = co/keys_found\n",
    "    sizes = np.array([len(ref_sets[i]) for i in range(0, len(ref_sets))])\n",
    "    fractions = [s/sizes.sum() for s in sizes]\n",
    "    error = np.sum([np.abs(fractions[i] - split_fractions[i]) for i in range(0, len(split_fractions))])\n",
    "    results = {\n",
    "        \"collisions\": co,\n",
    "        \"collisions_fraction\": co/keys_found,\n",
    "        \"sizes\": sizes,\n",
    "        \"fractions\": fractions,\n",
    "        \"error\": error\n",
    "    }\n",
    "    return results\n",
    "\n",
    "def collisions_all(keys, idxs, res_refact):\n",
    "    results = {}\n",
    "    for k,v in res_refact.items():\n",
    "        results[k] = collisions(keys, idxs, v[\"maps\"])\n",
    "    return results"
   ]
  },
  {
   "cell_type": "code",
   "execution_count": null,
   "metadata": {},
   "outputs": [],
   "source": [
    "collis = collisions_all(keys, idxs, res_refact)"
   ]
  },
  {
   "cell_type": "code",
   "execution_count": null,
   "metadata": {},
   "outputs": [],
   "source": [
    "def score_collisions(collis):\n",
    "    x = []\n",
    "    y = []\n",
    "    for k,v in collis.items():\n",
    "        x += [v[\"collisions_fraction\"]]\n",
    "        y += [v[\"error\"]]\n",
    "    cf = np.mean(x)\n",
    "    er = np.mean(y)\n",
    "    return cf, er"
   ]
  },
  {
   "cell_type": "code",
   "execution_count": null,
   "metadata": {},
   "outputs": [],
   "source": [
    "%matplotlib inline\n",
    "import matplotlib.pyplot as plt\n",
    "\n",
    "plt.scatter(x,y)"
   ]
  },
  {
   "cell_type": "code",
   "execution_count": null,
   "metadata": {},
   "outputs": [],
   "source": [
    "from tqdm import tqdm\n",
    "attempts = 100\n",
    "atts = []\n",
    "for _ in tqdm(range(0,attempts)):\n",
    "    idxs = get_splits(len(keys), [0.8, 0.1, 0.1])\n",
    "    atts += [idxs]"
   ]
  },
  {
   "cell_type": "code",
   "execution_count": null,
   "metadata": {},
   "outputs": [],
   "source": [
    "cfs = []\n",
    "ers = []\n",
    "for idxs in tqdm(atts[:10]):\n",
    "    collis = collisions_all(keys, idxs, res_refact)\n",
    "    cf, er = score_collisions(collis)\n",
    "    cfs += [cf]\n",
    "    ers += [er]"
   ]
  },
  {
   "cell_type": "code",
   "execution_count": null,
   "metadata": {},
   "outputs": [],
   "source": [
    "from scipy.stats import rankdata\n",
    "cfs_ranks = rankdata(cfs)\n",
    "ers_ranks = rankdata(ers)\n",
    "ranks = np.mean(np.array([cfs_ranks, ers_ranks]), axis=0)"
   ]
  },
  {
   "cell_type": "code",
   "execution_count": null,
   "metadata": {},
   "outputs": [],
   "source": [
    "idxs = atts[np.argmin(ranks)]"
   ]
  },
  {
   "cell_type": "code",
   "execution_count": null,
   "metadata": {},
   "outputs": [],
   "source": [
    "from scipy.stats import rankdata"
   ]
  },
  {
   "cell_type": "code",
   "execution_count": null,
   "metadata": {},
   "outputs": [],
   "source": [
    "rankdata(cfs)"
   ]
  },
  {
   "cell_type": "code",
   "execution_count": null,
   "metadata": {},
   "outputs": [],
   "source": [
    "rankdata(ers)"
   ]
  },
  {
   "cell_type": "code",
   "execution_count": null,
   "metadata": {},
   "outputs": [],
   "source": [
    "ers"
   ]
  },
  {
   "cell_type": "code",
   "execution_count": null,
   "metadata": {},
   "outputs": [],
   "source": []
  }
 ],
 "metadata": {
  "kernelspec": {
   "display_name": "Python 3",
   "language": "python",
   "name": "python3"
  },
  "language_info": {
   "codemirror_mode": {
    "name": "ipython",
    "version": 3
   },
   "file_extension": ".py",
   "mimetype": "text/x-python",
   "name": "python",
   "nbconvert_exporter": "python",
   "pygments_lexer": "ipython3",
   "version": "3.7.4"
  }
 },
 "nbformat": 4,
 "nbformat_minor": 2
}
